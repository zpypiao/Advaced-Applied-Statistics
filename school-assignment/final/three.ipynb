{
 "cells": [
  {
   "cell_type": "markdown",
   "metadata": {},
   "source": [
    "# 题目三"
   ]
  },
  {
   "cell_type": "code",
   "execution_count": 1,
   "metadata": {},
   "outputs": [],
   "source": [
    "# import package\n",
    "import numpy as np\n",
    "import pandas as pd\n",
    "from pathlib import Path\n",
    "import matplotlib.pyplot as plt\n",
    "import scipy.cluster.hierarchy as sch\n",
    "from sklearn.cluster import KMeans\n",
    "import scipy"
   ]
  },
  {
   "cell_type": "code",
   "execution_count": 2,
   "metadata": {},
   "outputs": [],
   "source": [
    "# read the data\n",
    "\n",
    "file_path = \"D:/Docunments/Projects/Advaced-Applied-Statistics/data/final_data.xlsx\"\n",
    "\n",
    "# read the data file\n",
    "data = pd.read_excel(file_path, '公用事业公司的运营数据')"
   ]
  },
  {
   "cell_type": "code",
   "execution_count": 3,
   "metadata": {},
   "outputs": [
    {
     "data": {
      "image/png": "[encoded data removed]",
      "text/plain": [
       "<Figure size 640x480 with 1 Axes>"
      ]
     },
     "metadata": {},
     "output_type": "display_data"
    },
    {
     "name": "stdout",
     "output_type": "stream",
     "text": [
      "      V1    V2   V3    V4   V5     V6    V7     V8  class_ward\n",
      "16  0.76   6.4  136  61.9  9.0   5714   8.3  1.920           1\n",
      "14  0.96   7.6  164  62.2 -0.1   6468   0.9  1.400           1\n",
      "6   1.22  12.2  175  67.6  2.2   7642   0.0  1.652           1\n",
      "11  1.13  10.9  178  62.0  3.7   6154   0.0  1.897           1\n",
      "20  1.04   8.6  204  61.0  3.5   6650   0.0  2.116           1\n",
      "10  0.75   7.5  173  51.5  6.5  17441   0.0  0.768           2\n",
      "15  1.16   9.9  252  56.0  9.2  15991   0.0  0.620           2\n",
      "7   1.10   9.2  245  57.0  3.3  13082   0.0  0.309           2\n",
      "18  1.16  11.7  104  54.0 -2.1  13507   0.0  0.636           3\n",
      "17  1.05  12.6  150  56.7  2.7  10140   0.0  1.108           3\n",
      "13  1.09  12.0   96  49.8  1.4   9673   0.0  0.588           3\n",
      "0   1.06   9.2  151  54.4  1.6   9077   0.0  0.628           3\n",
      "8   1.34  13.0  168  60.4  7.2   8406   0.0  0.862           3\n",
      "5   1.32  13.5  111  60.0 -2.2  11127  22.5  1.241           3\n",
      "2   1.43  15.4  113  53.0  3.4   9212   0.0  1.058           3\n",
      "12  1.15  12.7  199  53.7  6.4   7179  50.2  0.527           4\n",
      "4   1.49   8.8  192  51.2  1.0   3300  15.6  2.044           4\n",
      "3   1.02  11.2  168  56.0  0.3   6423  34.3  0.700           4\n",
      "1   0.89  10.3  202  57.9  2.2   5088  25.3  1.555           4\n",
      "19  1.20  11.8  148  59.9  3.5   7287  41.1  0.702           4\n",
      "9   1.12  12.4  197  53.0  2.7   6455  39.2  0.623           4\n",
      "21  1.07   9.3  174  54.3  5.9  10093  26.6  1.306           4\n"
     ]
    }
   ],
   "source": [
    "# ward\n",
    "# read the data file\n",
    "ward = data.copy(deep=True)\n",
    "\n",
    "# to standard the data\n",
    "ward = (ward-ward.mean())/ward.std()\n",
    "\n",
    "# dis = sch.distance.pdist(X=data, metric='euclidean')\n",
    "\n",
    "\n",
    "\n",
    "Z = sch.linkage(ward, method='ward')\n",
    "\n",
    "p = sch.dendrogram(Z)\n",
    "\n",
    "plt.title('ward')\n",
    "plt.show()\n",
    "\n",
    "class_ward = sch.fcluster(Z, t=6, criterion='distance')\n",
    "\n",
    "data['class_ward'] = class_ward\n",
    "\n",
    "ward_class = data.sort_values(by='class_ward')\n",
    "\n",
    "print(ward_class)"
   ]
  },
  {
   "cell_type": "code",
   "execution_count": 4,
   "metadata": {},
   "outputs": [
    {
     "name": "stdout",
     "output_type": "stream",
     "text": [
      "      V1    V2   V3    V4   V5     V6    V7     V8  k_class\n",
      "0   1.06   9.2  151  54.4  1.6   9077   0.0  0.628        3\n",
      "1   0.89  10.3  202  57.9  2.2   5088  25.3  1.555        1\n",
      "2   1.43  15.4  113  53.0  3.4   9212   0.0  1.058        3\n",
      "3   1.02  11.2  168  56.0  0.3   6423  34.3  0.700        1\n",
      "4   1.49   8.8  192  51.2  1.0   3300  15.6  2.044        1\n",
      "5   1.32  13.5  111  60.0 -2.2  11127  22.5  1.241        3\n",
      "6   1.22  12.2  175  67.6  2.2   7642   0.0  1.652        1\n",
      "7   1.10   9.2  245  57.0  3.3  13082   0.0  0.309        4\n",
      "8   1.34  13.0  168  60.4  7.2   8406   0.0  0.862        3\n",
      "9   1.12  12.4  197  53.0  2.7   6455  39.2  0.623        1\n",
      "10  0.75   7.5  173  51.5  6.5  17441   0.0  0.768        2\n",
      "11  1.13  10.9  178  62.0  3.7   6154   0.0  1.897        1\n",
      "12  1.15  12.7  199  53.7  6.4   7179  50.2  0.527        1\n",
      "13  1.09  12.0   96  49.8  1.4   9673   0.0  0.588        3\n",
      "14  0.96   7.6  164  62.2 -0.1   6468   0.9  1.400        1\n",
      "15  1.16   9.9  252  56.0  9.2  15991   0.0  0.620        2\n",
      "16  0.76   6.4  136  61.9  9.0   5714   8.3  1.920        1\n",
      "17  1.05  12.6  150  56.7  2.7  10140   0.0  1.108        3\n",
      "18  1.16  11.7  104  54.0 -2.1  13507   0.0  0.636        4\n",
      "19  1.20  11.8  148  59.9  3.5   7287  41.1  0.702        1\n",
      "20  1.04   8.6  204  61.0  3.5   6650   0.0  2.116        1\n",
      "21  1.07   9.3  174  54.3  5.9  10093  26.6  1.306        3\n"
     ]
    },
    {
     "name": "stderr",
     "output_type": "stream",
     "text": [
      "d:\\Software\\python\\lib\\site-packages\\sklearn\\cluster\\_kmeans.py:1416: FutureWarning: The default value of `n_init` will change from 10 to 'auto' in 1.4. Set the value of `n_init` explicitly to suppress the warning\n",
      "  super()._check_params_vs_input(X, default_n_init=10)\n"
     ]
    }
   ],
   "source": [
    "# Kmeans\n",
    "\n",
    "k_model = KMeans(n_clusters=4)\n",
    "\n",
    "result = k_model.fit_predict(data)\n",
    "\n",
    "# add the column to data\n",
    "data['k_class'] = result + 1\n",
    "\n",
    "print(data.drop(columns='class_ward'))"
   ]
  },
  {
   "cell_type": "code",
   "execution_count": 5,
   "metadata": {},
   "outputs": [
    {
     "name": "stdout",
     "output_type": "stream",
     "text": [
      "      V1    V2   V3    V4   V5     V6    V7     V8  class_ward  k_class\n",
      "0   1.06   9.2  151  54.4  1.6   9077   0.0  0.628           3        3\n",
      "1   0.89  10.3  202  57.9  2.2   5088  25.3  1.555           4        1\n",
      "2   1.43  15.4  113  53.0  3.4   9212   0.0  1.058           3        3\n",
      "3   1.02  11.2  168  56.0  0.3   6423  34.3  0.700           4        1\n",
      "4   1.49   8.8  192  51.2  1.0   3300  15.6  2.044           4        1\n",
      "5   1.32  13.5  111  60.0 -2.2  11127  22.5  1.241           3        3\n",
      "6   1.22  12.2  175  67.6  2.2   7642   0.0  1.652           1        1\n",
      "7   1.10   9.2  245  57.0  3.3  13082   0.0  0.309           2        4\n",
      "8   1.34  13.0  168  60.4  7.2   8406   0.0  0.862           3        3\n",
      "9   1.12  12.4  197  53.0  2.7   6455  39.2  0.623           4        1\n",
      "10  0.75   7.5  173  51.5  6.5  17441   0.0  0.768           2        2\n",
      "11  1.13  10.9  178  62.0  3.7   6154   0.0  1.897           1        1\n",
      "12  1.15  12.7  199  53.7  6.4   7179  50.2  0.527           4        1\n",
      "13  1.09  12.0   96  49.8  1.4   9673   0.0  0.588           3        3\n",
      "14  0.96   7.6  164  62.2 -0.1   6468   0.9  1.400           1        1\n",
      "15  1.16   9.9  252  56.0  9.2  15991   0.0  0.620           2        2\n",
      "16  0.76   6.4  136  61.9  9.0   5714   8.3  1.920           1        1\n",
      "17  1.05  12.6  150  56.7  2.7  10140   0.0  1.108           3        3\n",
      "18  1.16  11.7  104  54.0 -2.1  13507   0.0  0.636           3        4\n",
      "19  1.20  11.8  148  59.9  3.5   7287  41.1  0.702           4        1\n",
      "20  1.04   8.6  204  61.0  3.5   6650   0.0  2.116           1        1\n",
      "21  1.07   9.3  174  54.3  5.9  10093  26.6  1.306           4        3\n"
     ]
    }
   ],
   "source": [
    "print(data)"
   ]
  },
  {
   "cell_type": "code",
   "execution_count": 6,
   "metadata": {},
   "outputs": [
    {
     "name": "stdout",
     "output_type": "stream",
     "text": [
      "  var      corr   p-value\n",
      "0  V1  0.208749  0.351185\n",
      "1  V2  0.265086  0.233159\n",
      "2  V3 -0.313765  0.155029\n",
      "3  V4 -0.343431  0.117620\n",
      "4  V5 -0.164693  0.463919\n",
      "5  V6  0.633457  0.001551\n",
      "6  V7 -0.422559  0.050092\n",
      "7  V8 -0.496762  0.018680\n"
     ]
    }
   ],
   "source": [
    "# check the correlation\n",
    "\n",
    "corrr = []\n",
    "p_val = []\n",
    "for each in data.columns[:8]:\n",
    "    corr, p = scipy.stats.pearsonr(data[each], data['k_class'])\n",
    "    corrr.append(corr)\n",
    "    p_val.append(p)\n",
    "\n",
    "corr = pd.DataFrame({'var':data.columns[:8], 'corr':corrr, 'p-value':p_val})\n",
    "\n",
    "print(corr)\n"
   ]
  },
  {
   "cell_type": "code",
   "execution_count": 7,
   "metadata": {},
   "outputs": [
    {
     "name": "stdout",
     "output_type": "stream",
     "text": [
      "      V1    V2   V3    V4   V5     V6    V7     V8  k_class  k_class_std\n",
      "0   1.06   9.2  151  54.4  1.6   9077   0.0  0.628        3            2\n",
      "1   0.89  10.3  202  57.9  2.2   5088  25.3  1.555        1            1\n",
      "2   1.43  15.4  113  53.0  3.4   9212   0.0  1.058        3            2\n",
      "3   1.02  11.2  168  56.0  0.3   6423  34.3  0.700        1            1\n",
      "4   1.49   8.8  192  51.2  1.0   3300  15.6  2.044        1            1\n",
      "5   1.32  13.5  111  60.0 -2.2  11127  22.5  1.241        3            2\n",
      "6   1.22  12.2  175  67.6  2.2   7642   0.0  1.652        1            4\n",
      "7   1.10   9.2  245  57.0  3.3  13082   0.0  0.309        4            3\n",
      "8   1.34  13.0  168  60.4  7.2   8406   0.0  0.862        3            2\n",
      "9   1.12  12.4  197  53.0  2.7   6455  39.2  0.623        1            1\n",
      "10  0.75   7.5  173  51.5  6.5  17441   0.0  0.768        2            3\n",
      "11  1.13  10.9  178  62.0  3.7   6154   0.0  1.897        1            4\n",
      "12  1.15  12.7  199  53.7  6.4   7179  50.2  0.527        1            1\n",
      "13  1.09  12.0   96  49.8  1.4   9673   0.0  0.588        3            2\n",
      "14  0.96   7.6  164  62.2 -0.1   6468   0.9  1.400        1            4\n",
      "15  1.16   9.9  252  56.0  9.2  15991   0.0  0.620        2            3\n",
      "16  0.76   6.4  136  61.9  9.0   5714   8.3  1.920        1            4\n",
      "17  1.05  12.6  150  56.7  2.7  10140   0.0  1.108        3            2\n",
      "18  1.16  11.7  104  54.0 -2.1  13507   0.0  0.636        4            2\n",
      "19  1.20  11.8  148  59.9  3.5   7287  41.1  0.702        1            1\n",
      "20  1.04   8.6  204  61.0  3.5   6650   0.0  2.116        1            4\n",
      "21  1.07   9.3  174  54.3  5.9  10093  26.6  1.306        3            1\n"
     ]
    },
    {
     "name": "stderr",
     "output_type": "stream",
     "text": [
      "d:\\Software\\python\\lib\\site-packages\\sklearn\\cluster\\_kmeans.py:1416: FutureWarning: The default value of `n_init` will change from 10 to 'auto' in 1.4. Set the value of `n_init` explicitly to suppress the warning\n",
      "  super()._check_params_vs_input(X, default_n_init=10)\n"
     ]
    }
   ],
   "source": [
    "# to standard the data and kmeans\n",
    "\n",
    "data_std = (data-data.mean())/data.std()\n",
    "\n",
    "k_model_std = KMeans(n_clusters=4)\n",
    "\n",
    "result_std = k_model_std.fit_predict(data_std)\n",
    "\n",
    "# add the column to data\n",
    "data['k_class_std'] = result_std + 1\n",
    "\n",
    "print(data.drop(columns='class_ward'))"
   ]
  },
  {
   "cell_type": "code",
   "execution_count": 8,
   "metadata": {},
   "outputs": [
    {
     "name": "stdout",
     "output_type": "stream",
     "text": [
      "  var  corr_std  p-value_std\n",
      "0  V1 -0.309684     0.160760\n",
      "1  V2 -0.418463     0.052598\n",
      "2  V3  0.094409     0.676018\n",
      "3  V4  0.606521     0.002766\n",
      "4  V5  0.185992     0.407260\n",
      "5  V6  0.143822     0.523120\n",
      "6  V7 -0.697627     0.000307\n",
      "7  V8  0.412147     0.056648\n"
     ]
    }
   ],
   "source": [
    "corrr_std = []\n",
    "p_val_std = []\n",
    "for each in data.columns[:8]:\n",
    "    corr, p = scipy.stats.pearsonr(data[each], data['k_class_std'])\n",
    "    corrr_std.append(corr)\n",
    "    p_val_std.append(p)\n",
    "\n",
    "corr_std = pd.DataFrame({'var':data.columns[:8], 'corr_std':corrr_std, 'p-value_std':p_val_std})\n",
    "\n",
    "print(corr_std)"
   ]
  }
 ],
 "metadata": {
  "kernelspec": {
   "display_name": "Python 3",
   "language": "python",
   "name": "python3"
  },
  "language_info": {
   "codemirror_mode": {
    "name": "ipython",
    "version": 3
   },
   "file_extension": ".py",
   "mimetype": "text/x-python",
   "name": "python",
   "nbconvert_exporter": "python",
   "pygments_lexer": "ipython3",
   "version": "3.10.10"
  }
 },
 "nbformat": 4,
 "nbformat_minor": 2
}
